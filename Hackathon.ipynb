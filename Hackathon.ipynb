{
 "cells": [
  {
   "cell_type": "code",
   "execution_count": 1,
   "id": "2306cd3b",
   "metadata": {},
   "outputs": [],
   "source": [
    "# Importing necessary libraries\n",
    "\n",
    "import numpy as np\n",
    "import pandas as pd\n",
    "import matplotlib.pyplot as plt\n",
    "import seaborn as sns\n",
    "import warnings\n",
    "warnings.filterwarnings('ignore')"
   ]
  },
  {
   "cell_type": "code",
   "execution_count": 2,
   "id": "17c4c3b3",
   "metadata": {},
   "outputs": [],
   "source": [
    "#  Loading csv file into pandas dataframe\n",
    "\n",
    "data=pd.read_csv('data.csv')"
   ]
  },
  {
   "cell_type": "code",
   "execution_count": 3,
   "id": "0afb0741",
   "metadata": {},
   "outputs": [
    {
     "data": {
      "text/html": [
       "<div>\n",
       "<style scoped>\n",
       "    .dataframe tbody tr th:only-of-type {\n",
       "        vertical-align: middle;\n",
       "    }\n",
       "\n",
       "    .dataframe tbody tr th {\n",
       "        vertical-align: top;\n",
       "    }\n",
       "\n",
       "    .dataframe thead th {\n",
       "        text-align: right;\n",
       "    }\n",
       "</style>\n",
       "<table border=\"1\" class=\"dataframe\">\n",
       "  <thead>\n",
       "    <tr style=\"text-align: right;\">\n",
       "      <th></th>\n",
       "      <th>x1</th>\n",
       "      <th>x2</th>\n",
       "      <th>y</th>\n",
       "    </tr>\n",
       "  </thead>\n",
       "  <tbody>\n",
       "    <tr>\n",
       "      <th>0</th>\n",
       "      <td>-119.366669</td>\n",
       "      <td>115.000000</td>\n",
       "      <td>1</td>\n",
       "    </tr>\n",
       "    <tr>\n",
       "      <th>1</th>\n",
       "      <td>-101.108045</td>\n",
       "      <td>97.777159</td>\n",
       "      <td>1</td>\n",
       "    </tr>\n",
       "    <tr>\n",
       "      <th>2</th>\n",
       "      <td>-130.278658</td>\n",
       "      <td>106.767654</td>\n",
       "      <td>1</td>\n",
       "    </tr>\n",
       "    <tr>\n",
       "      <th>3</th>\n",
       "      <td>-114.703415</td>\n",
       "      <td>101.195477</td>\n",
       "      <td>1</td>\n",
       "    </tr>\n",
       "    <tr>\n",
       "      <th>4</th>\n",
       "      <td>-119.366669</td>\n",
       "      <td>115.000000</td>\n",
       "      <td>1</td>\n",
       "    </tr>\n",
       "  </tbody>\n",
       "</table>\n",
       "</div>"
      ],
      "text/plain": [
       "           x1          x2  y\n",
       "0 -119.366669  115.000000  1\n",
       "1 -101.108045   97.777159  1\n",
       "2 -130.278658  106.767654  1\n",
       "3 -114.703415  101.195477  1\n",
       "4 -119.366669  115.000000  1"
      ]
     },
     "execution_count": 3,
     "metadata": {},
     "output_type": "execute_result"
    }
   ],
   "source": [
    "data.head()"
   ]
  },
  {
   "cell_type": "code",
   "execution_count": 4,
   "id": "b2d0e53b",
   "metadata": {},
   "outputs": [
    {
     "data": {
      "text/plain": [
       "(2227, 3)"
      ]
     },
     "execution_count": 4,
     "metadata": {},
     "output_type": "execute_result"
    }
   ],
   "source": [
    "data.shape"
   ]
  },
  {
   "cell_type": "code",
   "execution_count": 5,
   "id": "d76e9292",
   "metadata": {},
   "outputs": [
    {
     "name": "stdout",
     "output_type": "stream",
     "text": [
      "<class 'pandas.core.frame.DataFrame'>\n",
      "RangeIndex: 2227 entries, 0 to 2226\n",
      "Data columns (total 3 columns):\n",
      " #   Column  Non-Null Count  Dtype  \n",
      "---  ------  --------------  -----  \n",
      " 0   x1      2222 non-null   float64\n",
      " 1   x2      2224 non-null   float64\n",
      " 2   y       2227 non-null   int64  \n",
      "dtypes: float64(2), int64(1)\n",
      "memory usage: 52.3 KB\n"
     ]
    }
   ],
   "source": [
    "data.info()"
   ]
  },
  {
   "cell_type": "code",
   "execution_count": 6,
   "id": "b7f0a3b5",
   "metadata": {},
   "outputs": [
    {
     "data": {
      "text/html": [
       "<div>\n",
       "<style scoped>\n",
       "    .dataframe tbody tr th:only-of-type {\n",
       "        vertical-align: middle;\n",
       "    }\n",
       "\n",
       "    .dataframe tbody tr th {\n",
       "        vertical-align: top;\n",
       "    }\n",
       "\n",
       "    .dataframe thead th {\n",
       "        text-align: right;\n",
       "    }\n",
       "</style>\n",
       "<table border=\"1\" class=\"dataframe\">\n",
       "  <thead>\n",
       "    <tr style=\"text-align: right;\">\n",
       "      <th></th>\n",
       "      <th>x1</th>\n",
       "      <th>x2</th>\n",
       "      <th>y</th>\n",
       "    </tr>\n",
       "  </thead>\n",
       "  <tbody>\n",
       "    <tr>\n",
       "      <th>count</th>\n",
       "      <td>2222.000000</td>\n",
       "      <td>2.224000e+03</td>\n",
       "      <td>2227.000000</td>\n",
       "    </tr>\n",
       "    <tr>\n",
       "      <th>mean</th>\n",
       "      <td>-4.818766</td>\n",
       "      <td>8.947626e+04</td>\n",
       "      <td>0.442299</td>\n",
       "    </tr>\n",
       "    <tr>\n",
       "      <th>std</th>\n",
       "      <td>74.939909</td>\n",
       "      <td>2.983323e+06</td>\n",
       "      <td>0.496771</td>\n",
       "    </tr>\n",
       "    <tr>\n",
       "      <th>min</th>\n",
       "      <td>-134.369160</td>\n",
       "      <td>-1.348761e+02</td>\n",
       "      <td>0.000000</td>\n",
       "    </tr>\n",
       "    <tr>\n",
       "      <th>25%</th>\n",
       "      <td>-71.757030</td>\n",
       "      <td>-8.012983e+01</td>\n",
       "      <td>0.000000</td>\n",
       "    </tr>\n",
       "    <tr>\n",
       "      <th>50%</th>\n",
       "      <td>-9.836555</td>\n",
       "      <td>-1.046151e+00</td>\n",
       "      <td>0.000000</td>\n",
       "    </tr>\n",
       "    <tr>\n",
       "      <th>75%</th>\n",
       "      <td>59.813962</td>\n",
       "      <td>6.389086e+01</td>\n",
       "      <td>1.000000</td>\n",
       "    </tr>\n",
       "    <tr>\n",
       "      <th>max</th>\n",
       "      <td>134.508687</td>\n",
       "      <td>1.000000e+08</td>\n",
       "      <td>1.000000</td>\n",
       "    </tr>\n",
       "  </tbody>\n",
       "</table>\n",
       "</div>"
      ],
      "text/plain": [
       "                x1            x2            y\n",
       "count  2222.000000  2.224000e+03  2227.000000\n",
       "mean     -4.818766  8.947626e+04     0.442299\n",
       "std      74.939909  2.983323e+06     0.496771\n",
       "min    -134.369160 -1.348761e+02     0.000000\n",
       "25%     -71.757030 -8.012983e+01     0.000000\n",
       "50%      -9.836555 -1.046151e+00     0.000000\n",
       "75%      59.813962  6.389086e+01     1.000000\n",
       "max     134.508687  1.000000e+08     1.000000"
      ]
     },
     "execution_count": 6,
     "metadata": {},
     "output_type": "execute_result"
    }
   ],
   "source": [
    "data.describe()"
   ]
  },
  {
   "cell_type": "markdown",
   "id": "be1902df",
   "metadata": {},
   "source": [
    "# Checking for null values"
   ]
  },
  {
   "cell_type": "code",
   "execution_count": 7,
   "id": "56eee26e",
   "metadata": {
    "scrolled": true
   },
   "outputs": [
    {
     "data": {
      "text/plain": [
       "x1    5\n",
       "x2    3\n",
       "y     0\n",
       "dtype: int64"
      ]
     },
     "execution_count": 7,
     "metadata": {},
     "output_type": "execute_result"
    }
   ],
   "source": [
    "# Checking for null values\n",
    "\n",
    "data.isnull().sum()"
   ]
  },
  {
   "cell_type": "code",
   "execution_count": 8,
   "id": "228b585b",
   "metadata": {
    "scrolled": false
   },
   "outputs": [
    {
     "data": {
      "text/plain": [
       "<AxesSubplot:xlabel='x1', ylabel='Density'>"
      ]
     },
     "execution_count": 8,
     "metadata": {},
     "output_type": "execute_result"
    },
    {
     "data": {
      "image/png": "[encoded data removed]",
      "text/plain": [
       "<Figure size 432x288 with 1 Axes>"
      ]
     },
     "metadata": {
      "needs_background": "light"
     },
     "output_type": "display_data"
    }
   ],
   "source": [
    "sns.distplot(data['x1'])"
   ]
  },
  {
   "cell_type": "code",
   "execution_count": 9,
   "id": "6203d457",
   "metadata": {},
   "outputs": [
    {
     "data": {
      "text/plain": [
       "<AxesSubplot:xlabel='x2', ylabel='Density'>"
      ]
     },
     "execution_count": 9,
     "metadata": {},
     "output_type": "execute_result"
    },
    {
     "data": {
      "image/png": "[encoded data removed]",
      "text/plain": [
       "<Figure size 432x288 with 1 Axes>"
      ]
     },
     "metadata": {
      "needs_background": "light"
     },
     "output_type": "display_data"
    }
   ],
   "source": [
    "sns.distplot(data['x2'])"
   ]
  },
  {
   "cell_type": "markdown",
   "id": "d765fbfd",
   "metadata": {},
   "source": [
    "# Replacing nul values with median"
   ]
  },
  {
   "cell_type": "code",
   "execution_count": 10,
   "id": "6e2a6e8a",
   "metadata": {},
   "outputs": [],
   "source": [
    "# replacing \n",
    "\n",
    "data['x1']=data['x1'].fillna(data['x1'].median())\n",
    "data['x2']=data['x2'].fillna(data['x2'].median())"
   ]
  },
  {
   "cell_type": "code",
   "execution_count": 11,
   "id": "d1ac98c0",
   "metadata": {},
   "outputs": [
    {
     "data": {
      "text/plain": [
       "x1    0\n",
       "x2    0\n",
       "y     0\n",
       "dtype: int64"
      ]
     },
     "execution_count": 11,
     "metadata": {},
     "output_type": "execute_result"
    }
   ],
   "source": [
    "data.isnull().sum()"
   ]
  },
  {
   "cell_type": "markdown",
   "id": "571540ae",
   "metadata": {},
   "source": [
    "# Checking for outliers"
   ]
  },
  {
   "cell_type": "code",
   "execution_count": 12,
   "id": "02c3125c",
   "metadata": {},
   "outputs": [
    {
     "data": {
      "text/plain": [
       "<AxesSubplot:xlabel='x1'>"
      ]
     },
     "execution_count": 12,
     "metadata": {},
     "output_type": "execute_result"
    },
    {
     "data": {
      "image/png": "[encoded data removed]",
      "text/plain": [
       "<Figure size 432x288 with 1 Axes>"
      ]
     },
     "metadata": {
      "needs_background": "light"
     },
     "output_type": "display_data"
    }
   ],
   "source": [
    "sns.boxplot(data['x1'])"
   ]
  },
  {
   "cell_type": "code",
   "execution_count": 13,
   "id": "0724ddd4",
   "metadata": {},
   "outputs": [
    {
     "data": {
      "text/plain": [
       "<AxesSubplot:xlabel='x2'>"
      ]
     },
     "execution_count": 13,
     "metadata": {},
     "output_type": "execute_result"
    },
    {
     "data": {
      "image/png": "[encoded data removed]",
      "text/plain": [
       "<Figure size 432x288 with 1 Axes>"
      ]
     },
     "metadata": {
      "needs_background": "light"
     },
     "output_type": "display_data"
    }
   ],
   "source": [
    "sns.boxplot(data['x2'])"
   ]
  },
  {
   "cell_type": "markdown",
   "id": "ee804853",
   "metadata": {},
   "source": [
    "# Treating outliers"
   ]
  },
  {
   "cell_type": "code",
   "execution_count": 14,
   "id": "33ca8e48",
   "metadata": {},
   "outputs": [],
   "source": [
    "Q1,Q3 = np.percentile(data['x2'],[25,75])\n",
    "IQR = Q3 - Q1\n",
    "LB = Q1 - (1.5 * IQR)\n",
    "UB = Q3 + (1.5 * IQR)\n",
    "data['x2']=data['x2'].apply(lambda x:data['x2'].median()  if (x > UB)|(x < LB) else x)"
   ]
  },
  {
   "cell_type": "code",
   "execution_count": 15,
   "id": "a8010d03",
   "metadata": {},
   "outputs": [
    {
     "data": {
      "text/plain": [
       "<AxesSubplot:xlabel='x2'>"
      ]
     },
     "execution_count": 15,
     "metadata": {},
     "output_type": "execute_result"
    },
    {
     "data": {
      "image/png": "[encoded data removed]",
      "text/plain": [
       "<Figure size 432x288 with 1 Axes>"
      ]
     },
     "metadata": {
      "needs_background": "light"
     },
     "output_type": "display_data"
    }
   ],
   "source": [
    "sns.boxplot(data['x2'])"
   ]
  },
  {
   "cell_type": "code",
   "execution_count": 16,
   "id": "de5b8043",
   "metadata": {},
   "outputs": [
    {
     "data": {
      "text/plain": [
       "<AxesSubplot:xlabel='x2', ylabel='Density'>"
      ]
     },
     "execution_count": 16,
     "metadata": {},
     "output_type": "execute_result"
    },
    {
     "data": {
      "image/png": "[encoded data removed]",
      "text/plain": [
       "<Figure size 432x288 with 1 Axes>"
      ]
     },
     "metadata": {
      "needs_background": "light"
     },
     "output_type": "display_data"
    }
   ],
   "source": [
    "sns.distplot(data['x2'])"
   ]
  },
  {
   "cell_type": "markdown",
   "id": "649e0470",
   "metadata": {},
   "source": [
    "# Visualization of data"
   ]
  },
  {
   "cell_type": "code",
   "execution_count": 17,
   "id": "ed6d9644",
   "metadata": {},
   "outputs": [
    {
     "data": {
      "image/png": "[encoded data removed]",
      "text/plain": [
       "<Figure size 720x504 with 1 Axes>"
      ]
     },
     "metadata": {
      "needs_background": "light"
     },
     "output_type": "display_data"
    }
   ],
   "source": [
    "plt.figure(figsize=(10,7))\n",
    "sns.scatterplot(data['x1'],data['x2'])\n",
    "plt.show()"
   ]
  },
  {
   "cell_type": "code",
   "execution_count": 18,
   "id": "85c7a0a1",
   "metadata": {},
   "outputs": [
    {
     "data": {
      "image/png": "[encoded data removed]",
      "text/plain": [
       "<Figure size 720x360 with 1 Axes>"
      ]
     },
     "metadata": {
      "needs_background": "light"
     },
     "output_type": "display_data"
    }
   ],
   "source": [
    "plt.figure(figsize=(10,5))\n",
    "sns.scatterplot(data['x1'],data['x2'],hue=data['y'])\n",
    "plt.show()"
   ]
  },
  {
   "cell_type": "code",
   "execution_count": 19,
   "id": "8f93726a",
   "metadata": {},
   "outputs": [
    {
     "data": {
      "text/plain": [
       "<AxesSubplot:xlabel='y', ylabel='count'>"
      ]
     },
     "execution_count": 19,
     "metadata": {},
     "output_type": "execute_result"
    },
    {
     "data": {
      "image/png": "[encoded data removed]",
      "text/plain": [
       "<Figure size 432x288 with 1 Axes>"
      ]
     },
     "metadata": {
      "needs_background": "light"
     },
     "output_type": "display_data"
    }
   ],
   "source": [
    "sns.countplot(data['y'])"
   ]
  },
  {
   "cell_type": "code",
   "execution_count": 20,
   "id": "886bcf78",
   "metadata": {},
   "outputs": [
    {
     "data": {
      "text/plain": [
       "<AxesSubplot:>"
      ]
     },
     "execution_count": 20,
     "metadata": {},
     "output_type": "execute_result"
    },
    {
     "data": {
      "image/png": "[encoded data removed]",
      "text/plain": [
       "<Figure size 432x288 with 2 Axes>"
      ]
     },
     "metadata": {
      "needs_background": "light"
     },
     "output_type": "display_data"
    }
   ],
   "source": [
    "sns.heatmap(data.corr(),annot=True,cmap='Blues')"
   ]
  },
  {
   "cell_type": "markdown",
   "id": "498dc365",
   "metadata": {},
   "source": [
    "# Splitting of data"
   ]
  },
  {
   "cell_type": "code",
   "execution_count": 21,
   "id": "36574cca",
   "metadata": {},
   "outputs": [],
   "source": [
    "from sklearn.model_selection import train_test_split\n",
    "\n",
    "X = data.drop('y',axis=1)\n",
    "y = data['y']\n",
    "\n",
    "from sklearn.preprocessing import StandardScaler\n",
    "\n",
    "scaler=StandardScaler()\n",
    "\n",
    "X=scaler.fit_transform(X)\n",
    "x_train, x_test, y_train, y_test = train_test_split(X, y, test_size=0.2,random_state=1)"
   ]
  },
  {
   "cell_type": "code",
   "execution_count": 22,
   "id": "487bc855",
   "metadata": {},
   "outputs": [
    {
     "name": "stdout",
     "output_type": "stream",
     "text": [
      "(1781, 2) (1781,)\n"
     ]
    }
   ],
   "source": [
    "print(x_train.shape,y_train.shape)"
   ]
  },
  {
   "cell_type": "code",
   "execution_count": 23,
   "id": "0ccd1db3",
   "metadata": {},
   "outputs": [
    {
     "name": "stdout",
     "output_type": "stream",
     "text": [
      "(446, 2) (446,)\n"
     ]
    }
   ],
   "source": [
    "print(x_test.shape,y_test.shape)"
   ]
  },
  {
   "cell_type": "code",
   "execution_count": 24,
   "id": "47f1d1f2",
   "metadata": {},
   "outputs": [],
   "source": [
    "performance=pd.DataFrame(index=['Accuracy','Precision','Recall','F1-score'])"
   ]
  },
  {
   "cell_type": "markdown",
   "id": "0248e193",
   "metadata": {},
   "source": [
    "# Logistic Regression"
   ]
  },
  {
   "cell_type": "code",
   "execution_count": 25,
   "id": "b6d8ca68",
   "metadata": {},
   "outputs": [],
   "source": [
    "from sklearn.linear_model import LogisticRegression\n",
    "\n",
    "Logistic_model = LogisticRegression()\n",
    "\n",
    "Logistic_model.fit(x_train,y_train)\n",
    "\n",
    "y_pred = Logistic_model.predict(x_test)"
   ]
  },
  {
   "cell_type": "code",
   "execution_count": 26,
   "id": "a17368a4",
   "metadata": {},
   "outputs": [
    {
     "data": {
      "text/plain": [
       "0.7488789237668162"
      ]
     },
     "execution_count": 26,
     "metadata": {},
     "output_type": "execute_result"
    }
   ],
   "source": [
    "Logistic_model.score(x_test,y_test)"
   ]
  },
  {
   "cell_type": "code",
   "execution_count": 27,
   "id": "f1f83a4b",
   "metadata": {},
   "outputs": [],
   "source": [
    "from sklearn.metrics import confusion_matrix, classification_report, precision_score, recall_score, f1_score,accuracy_score"
   ]
  },
  {
   "cell_type": "code",
   "execution_count": 28,
   "id": "2cbd4dd9",
   "metadata": {},
   "outputs": [
    {
     "data": {
      "text/plain": [
       "array([[254,   0],\n",
       "       [112,  80]], dtype=int64)"
      ]
     },
     "execution_count": 28,
     "metadata": {},
     "output_type": "execute_result"
    }
   ],
   "source": [
    "confusion_matrix(y_test,y_pred)"
   ]
  },
  {
   "cell_type": "code",
   "execution_count": 29,
   "id": "910bfb77",
   "metadata": {},
   "outputs": [
    {
     "name": "stdout",
     "output_type": "stream",
     "text": [
      "              precision    recall  f1-score   support\n",
      "\n",
      "           0       0.69      1.00      0.82       254\n",
      "           1       1.00      0.42      0.59       192\n",
      "\n",
      "    accuracy                           0.75       446\n",
      "   macro avg       0.85      0.71      0.70       446\n",
      "weighted avg       0.83      0.75      0.72       446\n",
      "\n"
     ]
    }
   ],
   "source": [
    "print(classification_report(y_test,y_pred))"
   ]
  },
  {
   "cell_type": "code",
   "execution_count": 30,
   "id": "24b6ca02",
   "metadata": {},
   "outputs": [
    {
     "name": "stdout",
     "output_type": "stream",
     "text": [
      "Precision:  1.0\n",
      "Recall:  0.4166666666666667\n",
      "f1-score:  0.5882352941176471\n",
      "Accuracy:  0.7488789237668162\n"
     ]
    }
   ],
   "source": [
    "print('Precision: ',precision_score(y_test,y_pred))\n",
    "print('Recall: ',recall_score(y_test,y_pred))\n",
    "print('f1-score: ',f1_score(y_test,y_pred))\n",
    "print('Accuracy: ',accuracy_score(y_test,y_pred))"
   ]
  },
  {
   "cell_type": "code",
   "execution_count": 31,
   "id": "97c9b20a",
   "metadata": {},
   "outputs": [],
   "source": [
    "performance['Logistic Regression']=[accuracy_score(y_test,y_pred),\n",
    "                                    precision_score(y_test,y_pred),\n",
    "                                    recall_score(y_test,y_pred),\n",
    "                                   f1_score(y_test,y_pred)]"
   ]
  },
  {
   "cell_type": "markdown",
   "id": "9a71ceee",
   "metadata": {},
   "source": [
    "# SVM with linear kernel"
   ]
  },
  {
   "cell_type": "code",
   "execution_count": 32,
   "id": "64c6dc9e",
   "metadata": {},
   "outputs": [],
   "source": [
    "from sklearn.svm import SVC\n",
    "\n",
    "svm_model = SVC(kernel='linear',probability=True)\n",
    "\n",
    "svm_model.fit(x_train,y_train)\n",
    "\n",
    "y_pred = svm_model.predict(x_test)"
   ]
  },
  {
   "cell_type": "code",
   "execution_count": 33,
   "id": "3925eaac",
   "metadata": {},
   "outputs": [
    {
     "data": {
      "text/plain": [
       "array([[254,   0],\n",
       "       [120,  72]], dtype=int64)"
      ]
     },
     "execution_count": 33,
     "metadata": {},
     "output_type": "execute_result"
    }
   ],
   "source": [
    "confusion_matrix(y_test,y_pred)"
   ]
  },
  {
   "cell_type": "code",
   "execution_count": 34,
   "id": "9ee67e3c",
   "metadata": {},
   "outputs": [
    {
     "name": "stdout",
     "output_type": "stream",
     "text": [
      "              precision    recall  f1-score   support\n",
      "\n",
      "           0       0.68      1.00      0.81       254\n",
      "           1       1.00      0.38      0.55       192\n",
      "\n",
      "    accuracy                           0.73       446\n",
      "   macro avg       0.84      0.69      0.68       446\n",
      "weighted avg       0.82      0.73      0.70       446\n",
      "\n"
     ]
    }
   ],
   "source": [
    "print(classification_report(y_test,y_pred))"
   ]
  },
  {
   "cell_type": "code",
   "execution_count": 35,
   "id": "5a4afc79",
   "metadata": {
    "scrolled": true
   },
   "outputs": [
    {
     "name": "stdout",
     "output_type": "stream",
     "text": [
      "Precision:  1.0\n",
      "Recall:  0.375\n",
      "f1-score:  0.5454545454545454\n",
      "Accuracy:  0.7309417040358744\n"
     ]
    }
   ],
   "source": [
    "print('Precision: ',precision_score(y_test,y_pred))\n",
    "print('Recall: ',recall_score(y_test,y_pred))\n",
    "print('f1-score: ',f1_score(y_test,y_pred))\n",
    "print('Accuracy: ',accuracy_score(y_test,y_pred))"
   ]
  },
  {
   "cell_type": "code",
   "execution_count": 36,
   "id": "00b16840",
   "metadata": {},
   "outputs": [],
   "source": [
    "performance['SVM with linear kernel']=[accuracy_score(y_test,y_pred),\n",
    "                                    precision_score(y_test,y_pred),\n",
    "                                    recall_score(y_test,y_pred),\n",
    "                                   f1_score(y_test,y_pred)]"
   ]
  },
  {
   "cell_type": "markdown",
   "id": "de0c71cc",
   "metadata": {},
   "source": [
    "# SVM with RBF kernel"
   ]
  },
  {
   "cell_type": "code",
   "execution_count": 37,
   "id": "d6faeac9",
   "metadata": {},
   "outputs": [],
   "source": [
    "svm_rbf_model = SVC(kernel='rbf',probability=True)\n",
    "\n",
    "svm_rbf_model.fit(x_train,y_train)\n",
    "\n",
    "y_pred = svm_rbf_model.predict(x_test)"
   ]
  },
  {
   "cell_type": "code",
   "execution_count": 38,
   "id": "7064028a",
   "metadata": {},
   "outputs": [
    {
     "data": {
      "text/plain": [
       "array([[241,  13],\n",
       "       [  9, 183]], dtype=int64)"
      ]
     },
     "execution_count": 38,
     "metadata": {},
     "output_type": "execute_result"
    }
   ],
   "source": [
    "confusion_matrix(y_test,y_pred)"
   ]
  },
  {
   "cell_type": "code",
   "execution_count": 39,
   "id": "9d0a49f7",
   "metadata": {},
   "outputs": [
    {
     "name": "stdout",
     "output_type": "stream",
     "text": [
      "              precision    recall  f1-score   support\n",
      "\n",
      "           0       0.96      0.95      0.96       254\n",
      "           1       0.93      0.95      0.94       192\n",
      "\n",
      "    accuracy                           0.95       446\n",
      "   macro avg       0.95      0.95      0.95       446\n",
      "weighted avg       0.95      0.95      0.95       446\n",
      "\n"
     ]
    }
   ],
   "source": [
    "print(classification_report(y_test,y_pred))"
   ]
  },
  {
   "cell_type": "code",
   "execution_count": 40,
   "id": "5a6b22c2",
   "metadata": {},
   "outputs": [
    {
     "name": "stdout",
     "output_type": "stream",
     "text": [
      "Precision:  0.9336734693877551\n",
      "Recall:  0.953125\n",
      "f1-score:  0.9432989690721649\n",
      "Accuracy:  0.9506726457399103\n"
     ]
    }
   ],
   "source": [
    "print('Precision: ',precision_score(y_test,y_pred))\n",
    "print('Recall: ',recall_score(y_test,y_pred))\n",
    "print('f1-score: ',f1_score(y_test,y_pred))\n",
    "print('Accuracy: ',accuracy_score(y_test,y_pred))"
   ]
  },
  {
   "cell_type": "code",
   "execution_count": 41,
   "id": "8ddcb006",
   "metadata": {},
   "outputs": [],
   "source": [
    "performance['SVM with rbf kernel']=[accuracy_score(y_test,y_pred),\n",
    "                                    precision_score(y_test,y_pred),\n",
    "                                    recall_score(y_test,y_pred),\n",
    "                                   f1_score(y_test,y_pred)]"
   ]
  },
  {
   "cell_type": "markdown",
   "id": "f82bcf66",
   "metadata": {},
   "source": [
    "# Decision Tree"
   ]
  },
  {
   "cell_type": "code",
   "execution_count": 42,
   "id": "1f626ae5",
   "metadata": {},
   "outputs": [],
   "source": [
    "from sklearn.tree import DecisionTreeClassifier\n",
    "\n",
    "dt_model = DecisionTreeClassifier()\n",
    "\n",
    "dt_model.fit(x_train,y_train)\n",
    "\n",
    "y_pred = dt_model.predict(x_test)"
   ]
  },
  {
   "cell_type": "code",
   "execution_count": 43,
   "id": "eb1da31a",
   "metadata": {},
   "outputs": [
    {
     "data": {
      "text/plain": [
       "array([[236,  18],\n",
       "       [ 12, 180]], dtype=int64)"
      ]
     },
     "execution_count": 43,
     "metadata": {},
     "output_type": "execute_result"
    }
   ],
   "source": [
    "confusion_matrix(y_test,y_pred)"
   ]
  },
  {
   "cell_type": "code",
   "execution_count": 44,
   "id": "cf7f89c0",
   "metadata": {},
   "outputs": [
    {
     "name": "stdout",
     "output_type": "stream",
     "text": [
      "              precision    recall  f1-score   support\n",
      "\n",
      "           0       0.95      0.93      0.94       254\n",
      "           1       0.91      0.94      0.92       192\n",
      "\n",
      "    accuracy                           0.93       446\n",
      "   macro avg       0.93      0.93      0.93       446\n",
      "weighted avg       0.93      0.93      0.93       446\n",
      "\n"
     ]
    }
   ],
   "source": [
    "print(classification_report(y_test,y_pred))"
   ]
  },
  {
   "cell_type": "code",
   "execution_count": 45,
   "id": "cde6bfd2",
   "metadata": {},
   "outputs": [
    {
     "name": "stdout",
     "output_type": "stream",
     "text": [
      "Precision:  0.9090909090909091\n",
      "Recall:  0.9375\n",
      "f1-score:  0.923076923076923\n",
      "Accuracy:  0.9327354260089686\n"
     ]
    }
   ],
   "source": [
    "print('Precision: ',precision_score(y_test,y_pred))\n",
    "print('Recall: ',recall_score(y_test,y_pred))\n",
    "print('f1-score: ',f1_score(y_test,y_pred))\n",
    "print('Accuracy: ',accuracy_score(y_test,y_pred))"
   ]
  },
  {
   "cell_type": "code",
   "execution_count": 46,
   "id": "dfa71cd3",
   "metadata": {},
   "outputs": [],
   "source": [
    "performance['Decision Tree']=[accuracy_score(y_test,y_pred),\n",
    "                                    precision_score(y_test,y_pred),\n",
    "                                    recall_score(y_test,y_pred),\n",
    "                                   f1_score(y_test,y_pred)]"
   ]
  },
  {
   "cell_type": "markdown",
   "id": "6926fe0f",
   "metadata": {},
   "source": [
    "# KNN"
   ]
  },
  {
   "cell_type": "code",
   "execution_count": 47,
   "id": "cfd6f1e5",
   "metadata": {},
   "outputs": [],
   "source": [
    "from sklearn.neighbors import KNeighborsClassifier\n",
    "\n",
    "knn_model = KNeighborsClassifier()\n",
    "\n",
    "knn_model.fit(x_train,y_train)\n",
    "\n",
    "y_pred = knn_model.predict(x_test)"
   ]
  },
  {
   "cell_type": "code",
   "execution_count": 48,
   "id": "b04ce583",
   "metadata": {},
   "outputs": [
    {
     "data": {
      "text/plain": [
       "array([[241,  13],\n",
       "       [  9, 183]], dtype=int64)"
      ]
     },
     "execution_count": 48,
     "metadata": {},
     "output_type": "execute_result"
    }
   ],
   "source": [
    "confusion_matrix(y_test,y_pred)"
   ]
  },
  {
   "cell_type": "code",
   "execution_count": 49,
   "id": "5b08dbdf",
   "metadata": {},
   "outputs": [
    {
     "name": "stdout",
     "output_type": "stream",
     "text": [
      "              precision    recall  f1-score   support\n",
      "\n",
      "           0       0.96      0.95      0.96       254\n",
      "           1       0.93      0.95      0.94       192\n",
      "\n",
      "    accuracy                           0.95       446\n",
      "   macro avg       0.95      0.95      0.95       446\n",
      "weighted avg       0.95      0.95      0.95       446\n",
      "\n"
     ]
    }
   ],
   "source": [
    "print(classification_report(y_test,y_pred))"
   ]
  },
  {
   "cell_type": "code",
   "execution_count": 50,
   "id": "e2d78a33",
   "metadata": {},
   "outputs": [
    {
     "name": "stdout",
     "output_type": "stream",
     "text": [
      "Precision:  0.9336734693877551\n",
      "Recall:  0.953125\n",
      "f1-score:  0.9432989690721649\n",
      "Accuracy:  0.9506726457399103\n"
     ]
    }
   ],
   "source": [
    "print('Precision: ',precision_score(y_test,y_pred))\n",
    "print('Recall: ',recall_score(y_test,y_pred))\n",
    "print('f1-score: ',f1_score(y_test,y_pred))\n",
    "print('Accuracy: ',accuracy_score(y_test,y_pred))"
   ]
  },
  {
   "cell_type": "code",
   "execution_count": 51,
   "id": "93a94b79",
   "metadata": {},
   "outputs": [],
   "source": [
    "performance['KNN']=[accuracy_score(y_test,y_pred),\n",
    "                                    precision_score(y_test,y_pred),\n",
    "                                    recall_score(y_test,y_pred),\n",
    "                                   f1_score(y_test,y_pred)]"
   ]
  },
  {
   "cell_type": "code",
   "execution_count": 52,
   "id": "9d9737c4",
   "metadata": {},
   "outputs": [
    {
     "data": {
      "text/html": [
       "<div>\n",
       "<style scoped>\n",
       "    .dataframe tbody tr th:only-of-type {\n",
       "        vertical-align: middle;\n",
       "    }\n",
       "\n",
       "    .dataframe tbody tr th {\n",
       "        vertical-align: top;\n",
       "    }\n",
       "\n",
       "    .dataframe thead th {\n",
       "        text-align: right;\n",
       "    }\n",
       "</style>\n",
       "<table border=\"1\" class=\"dataframe\">\n",
       "  <thead>\n",
       "    <tr style=\"text-align: right;\">\n",
       "      <th></th>\n",
       "      <th>Logistic Regression</th>\n",
       "      <th>SVM with linear kernel</th>\n",
       "      <th>SVM with rbf kernel</th>\n",
       "      <th>Decision Tree</th>\n",
       "      <th>KNN</th>\n",
       "    </tr>\n",
       "  </thead>\n",
       "  <tbody>\n",
       "    <tr>\n",
       "      <th>Accuracy</th>\n",
       "      <td>0.748879</td>\n",
       "      <td>0.730942</td>\n",
       "      <td>0.950673</td>\n",
       "      <td>0.932735</td>\n",
       "      <td>0.950673</td>\n",
       "    </tr>\n",
       "    <tr>\n",
       "      <th>Precision</th>\n",
       "      <td>1.000000</td>\n",
       "      <td>1.000000</td>\n",
       "      <td>0.933673</td>\n",
       "      <td>0.909091</td>\n",
       "      <td>0.933673</td>\n",
       "    </tr>\n",
       "    <tr>\n",
       "      <th>Recall</th>\n",
       "      <td>0.416667</td>\n",
       "      <td>0.375000</td>\n",
       "      <td>0.953125</td>\n",
       "      <td>0.937500</td>\n",
       "      <td>0.953125</td>\n",
       "    </tr>\n",
       "    <tr>\n",
       "      <th>F1-score</th>\n",
       "      <td>0.588235</td>\n",
       "      <td>0.545455</td>\n",
       "      <td>0.943299</td>\n",
       "      <td>0.923077</td>\n",
       "      <td>0.943299</td>\n",
       "    </tr>\n",
       "  </tbody>\n",
       "</table>\n",
       "</div>"
      ],
      "text/plain": [
       "           Logistic Regression  SVM with linear kernel  SVM with rbf kernel  \\\n",
       "Accuracy              0.748879                0.730942             0.950673   \n",
       "Precision             1.000000                1.000000             0.933673   \n",
       "Recall                0.416667                0.375000             0.953125   \n",
       "F1-score              0.588235                0.545455             0.943299   \n",
       "\n",
       "           Decision Tree       KNN  \n",
       "Accuracy        0.932735  0.950673  \n",
       "Precision       0.909091  0.933673  \n",
       "Recall          0.937500  0.953125  \n",
       "F1-score        0.923077  0.943299  "
      ]
     },
     "execution_count": 52,
     "metadata": {},
     "output_type": "execute_result"
    }
   ],
   "source": [
    "performance"
   ]
  },
  {
   "cell_type": "code",
   "execution_count": null,
   "id": "3117c25c",
   "metadata": {},
   "outputs": [],
   "source": []
  },
  {
   "cell_type": "code",
   "execution_count": 53,
   "id": "fec19e17",
   "metadata": {},
   "outputs": [],
   "source": [
    "performance_with_hyperparameters=pd.DataFrame(index=['Accuracy','Precision','Recall','F1-score'])"
   ]
  },
  {
   "cell_type": "markdown",
   "id": "7253df80",
   "metadata": {},
   "source": [
    "# Hyperparameter Tuning"
   ]
  },
  {
   "cell_type": "markdown",
   "id": "1ec4551a",
   "metadata": {},
   "source": [
    "## Logistic Regression"
   ]
  },
  {
   "cell_type": "code",
   "execution_count": 54,
   "id": "f34cc188",
   "metadata": {},
   "outputs": [],
   "source": [
    "from sklearn.model_selection import RandomizedSearchCV\n",
    "\n",
    "random_search = RandomizedSearchCV(estimator=LogisticRegression(),param_distributions={'penalty':['l1', 'l2', 'elasticnet', 'none'],\n",
    "                                                                                       'C':np.linspace(0,5,100),\n",
    "                                                                                       'solver':['newton-cg', 'lbfgs', 'liblinear', 'sag', 'saga']},\n",
    "                                   scoring='accuracy',cv=5,random_state=1)\n",
    "\n",
    "result = random_search.fit(X,y)"
   ]
  },
  {
   "cell_type": "code",
   "execution_count": 55,
   "id": "abf990aa",
   "metadata": {},
   "outputs": [
    {
     "data": {
      "text/plain": [
       "{'solver': 'newton-cg', 'penalty': 'none', 'C': 0.5555555555555556}"
      ]
     },
     "execution_count": 55,
     "metadata": {},
     "output_type": "execute_result"
    }
   ],
   "source": [
    "result.best_params_"
   ]
  },
  {
   "cell_type": "code",
   "execution_count": 56,
   "id": "75f4861c",
   "metadata": {},
   "outputs": [],
   "source": [
    "logistic_tuned_model = result.best_estimator_\n",
    "\n",
    "logistic_tuned_model.fit(x_train,y_train)\n",
    "\n",
    "y_pred = logistic_tuned_model.predict(x_test)"
   ]
  },
  {
   "cell_type": "code",
   "execution_count": 57,
   "id": "26355d53",
   "metadata": {},
   "outputs": [
    {
     "data": {
      "text/plain": [
       "array([[254,   0],\n",
       "       [112,  80]], dtype=int64)"
      ]
     },
     "execution_count": 57,
     "metadata": {},
     "output_type": "execute_result"
    }
   ],
   "source": [
    "confusion_matrix(y_test,y_pred)"
   ]
  },
  {
   "cell_type": "code",
   "execution_count": 58,
   "id": "c784f10c",
   "metadata": {},
   "outputs": [
    {
     "name": "stdout",
     "output_type": "stream",
     "text": [
      "              precision    recall  f1-score   support\n",
      "\n",
      "           0       0.69      1.00      0.82       254\n",
      "           1       1.00      0.42      0.59       192\n",
      "\n",
      "    accuracy                           0.75       446\n",
      "   macro avg       0.85      0.71      0.70       446\n",
      "weighted avg       0.83      0.75      0.72       446\n",
      "\n"
     ]
    }
   ],
   "source": [
    "print(classification_report(y_test,y_pred))"
   ]
  },
  {
   "cell_type": "code",
   "execution_count": 59,
   "id": "c1b74ce3",
   "metadata": {},
   "outputs": [
    {
     "name": "stdout",
     "output_type": "stream",
     "text": [
      "Precision:  1.0\n",
      "Recall:  0.4166666666666667\n",
      "f1-score:  0.5882352941176471\n",
      "Accuracy:  0.7488789237668162\n"
     ]
    }
   ],
   "source": [
    "print('Precision: ',precision_score(y_test,y_pred))\n",
    "print('Recall: ',recall_score(y_test,y_pred))\n",
    "print('f1-score: ',f1_score(y_test,y_pred))\n",
    "print('Accuracy: ',accuracy_score(y_test,y_pred))"
   ]
  },
  {
   "cell_type": "code",
   "execution_count": 60,
   "id": "f3b7967a",
   "metadata": {},
   "outputs": [],
   "source": [
    "performance_with_hyperparameters['logistic regression']=[accuracy_score(y_test,y_pred),\n",
    "                                    precision_score(y_test,y_pred),\n",
    "                                    recall_score(y_test,y_pred),\n",
    "                                   f1_score(y_test,y_pred)]"
   ]
  },
  {
   "cell_type": "markdown",
   "id": "71a4f77a",
   "metadata": {},
   "source": [
    "# SVM with linear kernel"
   ]
  },
  {
   "cell_type": "code",
   "execution_count": 61,
   "id": "5649912f",
   "metadata": {},
   "outputs": [],
   "source": [
    "random_search = RandomizedSearchCV(estimator=SVC(kernel='linear',probability=True),param_distributions={'gamma':['scale', 'auto'],\n",
    "                                                                                       'C':np.linspace(0,5,100)},\n",
    "                                   scoring='accuracy',cv=5,random_state=1)\n",
    "\n",
    "result = random_search.fit(X,y)"
   ]
  },
  {
   "cell_type": "code",
   "execution_count": 62,
   "id": "83e03da6",
   "metadata": {},
   "outputs": [
    {
     "data": {
      "text/plain": [
       "{'gamma': 'scale', 'C': 1.4646464646464645}"
      ]
     },
     "execution_count": 62,
     "metadata": {},
     "output_type": "execute_result"
    }
   ],
   "source": [
    "result.best_params_"
   ]
  },
  {
   "cell_type": "code",
   "execution_count": 63,
   "id": "4c09b4c4",
   "metadata": {},
   "outputs": [],
   "source": [
    "linear_svm_tuned_model = result.best_estimator_\n",
    "\n",
    "linear_svm_tuned_model.fit(x_train,y_train)\n",
    "\n",
    "y_pred = linear_svm_tuned_model.predict(x_test)"
   ]
  },
  {
   "cell_type": "code",
   "execution_count": 64,
   "id": "5617fa91",
   "metadata": {},
   "outputs": [
    {
     "data": {
      "text/plain": [
       "array([[254,   0],\n",
       "       [120,  72]], dtype=int64)"
      ]
     },
     "execution_count": 64,
     "metadata": {},
     "output_type": "execute_result"
    }
   ],
   "source": [
    "confusion_matrix(y_test,y_pred)"
   ]
  },
  {
   "cell_type": "code",
   "execution_count": 65,
   "id": "9cd2f0a3",
   "metadata": {},
   "outputs": [
    {
     "name": "stdout",
     "output_type": "stream",
     "text": [
      "              precision    recall  f1-score   support\n",
      "\n",
      "           0       0.68      1.00      0.81       254\n",
      "           1       1.00      0.38      0.55       192\n",
      "\n",
      "    accuracy                           0.73       446\n",
      "   macro avg       0.84      0.69      0.68       446\n",
      "weighted avg       0.82      0.73      0.70       446\n",
      "\n"
     ]
    }
   ],
   "source": [
    "print(classification_report(y_test,y_pred))"
   ]
  },
  {
   "cell_type": "code",
   "execution_count": 66,
   "id": "1f83b922",
   "metadata": {},
   "outputs": [
    {
     "name": "stdout",
     "output_type": "stream",
     "text": [
      "Precision:  1.0\n",
      "Recall:  0.375\n",
      "f1-score:  0.5454545454545454\n",
      "Accuracy:  0.7309417040358744\n"
     ]
    }
   ],
   "source": [
    "print('Precision: ',precision_score(y_test,y_pred))\n",
    "print('Recall: ',recall_score(y_test,y_pred))\n",
    "print('f1-score: ',f1_score(y_test,y_pred))\n",
    "print('Accuracy: ',accuracy_score(y_test,y_pred))"
   ]
  },
  {
   "cell_type": "code",
   "execution_count": 67,
   "id": "298395da",
   "metadata": {},
   "outputs": [],
   "source": [
    "performance_with_hyperparameters['SVM with linear kernel']=[accuracy_score(y_test,y_pred),\n",
    "                                    precision_score(y_test,y_pred),\n",
    "                                    recall_score(y_test,y_pred),\n",
    "                                   f1_score(y_test,y_pred)]"
   ]
  },
  {
   "cell_type": "markdown",
   "id": "f59211c8",
   "metadata": {},
   "source": [
    "# SVM with rbf kernel"
   ]
  },
  {
   "cell_type": "code",
   "execution_count": 68,
   "id": "6dca1d7c",
   "metadata": {},
   "outputs": [],
   "source": [
    "random_search = RandomizedSearchCV(estimator=SVC(kernel='rbf',probability=True),param_distributions={'gamma':['scale', 'auto'],\n",
    "                                                                                       'C':np.linspace(0,5,100)},\n",
    "                                   scoring='accuracy',cv=5,random_state=1)\n",
    "\n",
    "result = random_search.fit(X,y)"
   ]
  },
  {
   "cell_type": "code",
   "execution_count": 69,
   "id": "0626598d",
   "metadata": {},
   "outputs": [
    {
     "data": {
      "text/plain": [
       "{'gamma': 'scale', 'C': 0.10101010101010101}"
      ]
     },
     "execution_count": 69,
     "metadata": {},
     "output_type": "execute_result"
    }
   ],
   "source": [
    "result.best_params_"
   ]
  },
  {
   "cell_type": "code",
   "execution_count": 70,
   "id": "3be75073",
   "metadata": {},
   "outputs": [],
   "source": [
    "svm_rbf_tuned_model = result.best_estimator_\n",
    "\n",
    "svm_rbf_tuned_model.fit(x_train,y_train)\n",
    "\n",
    "y_pred = svm_rbf_tuned_model.predict(x_test)"
   ]
  },
  {
   "cell_type": "code",
   "execution_count": 71,
   "id": "1d4f0c1b",
   "metadata": {},
   "outputs": [
    {
     "data": {
      "text/plain": [
       "array([[252,   2],\n",
       "       [ 24, 168]], dtype=int64)"
      ]
     },
     "execution_count": 71,
     "metadata": {},
     "output_type": "execute_result"
    }
   ],
   "source": [
    "confusion_matrix(y_test,y_pred)"
   ]
  },
  {
   "cell_type": "code",
   "execution_count": 72,
   "id": "a10380f0",
   "metadata": {},
   "outputs": [
    {
     "name": "stdout",
     "output_type": "stream",
     "text": [
      "              precision    recall  f1-score   support\n",
      "\n",
      "           0       0.91      0.99      0.95       254\n",
      "           1       0.99      0.88      0.93       192\n",
      "\n",
      "    accuracy                           0.94       446\n",
      "   macro avg       0.95      0.93      0.94       446\n",
      "weighted avg       0.95      0.94      0.94       446\n",
      "\n"
     ]
    }
   ],
   "source": [
    "print(classification_report(y_test,y_pred))"
   ]
  },
  {
   "cell_type": "code",
   "execution_count": 73,
   "id": "f9c3a6e9",
   "metadata": {},
   "outputs": [
    {
     "name": "stdout",
     "output_type": "stream",
     "text": [
      "Precision:  0.9882352941176471\n",
      "Recall:  0.875\n",
      "f1-score:  0.9281767955801106\n",
      "Accuracy:  0.9417040358744395\n"
     ]
    }
   ],
   "source": [
    "print('Precision: ',precision_score(y_test,y_pred))\n",
    "print('Recall: ',recall_score(y_test,y_pred))\n",
    "print('f1-score: ',f1_score(y_test,y_pred))\n",
    "print('Accuracy: ',accuracy_score(y_test,y_pred))"
   ]
  },
  {
   "cell_type": "code",
   "execution_count": 74,
   "id": "5a82ab64",
   "metadata": {},
   "outputs": [],
   "source": [
    "performance_with_hyperparameters['SVM with rbf kernel']=[accuracy_score(y_test,y_pred),\n",
    "                                    precision_score(y_test,y_pred),\n",
    "                                    recall_score(y_test,y_pred),\n",
    "                                   f1_score(y_test,y_pred)]"
   ]
  },
  {
   "cell_type": "markdown",
   "id": "28d8b503",
   "metadata": {},
   "source": [
    "# Decision Tree"
   ]
  },
  {
   "cell_type": "code",
   "execution_count": 75,
   "id": "1c687b0c",
   "metadata": {},
   "outputs": [],
   "source": [
    "random_search = RandomizedSearchCV(estimator=DecisionTreeClassifier(),param_distributions={'criterion':[\"gini\", \"entropy\"],\n",
    "                                                                                           'splitter':[\"best\", \"random\"],\n",
    "                                                                                           'max_depth':[1,2,3,4,5,7,9,10,15,20,25,30,35,50],\n",
    "                                                                                           'min_samples_split':[2,5,10,15,20,25,30],\n",
    "                                                                                           'min_samples_leaf':[5,7,9,11,15,21,25,35,55],\n",
    "                                                                                           'max_features':[\"auto\", \"sqrt\", \"log2\",None]\n",
    "                                                                                           },\n",
    "                                   scoring='accuracy',cv=5,random_state=1)\n",
    "\n",
    "result = random_search.fit(X,y)"
   ]
  },
  {
   "cell_type": "code",
   "execution_count": 76,
   "id": "ea1150ce",
   "metadata": {},
   "outputs": [
    {
     "data": {
      "text/plain": [
       "{'splitter': 'best',\n",
       " 'min_samples_split': 30,\n",
       " 'min_samples_leaf': 7,\n",
       " 'max_features': 'sqrt',\n",
       " 'max_depth': 25,\n",
       " 'criterion': 'gini'}"
      ]
     },
     "execution_count": 76,
     "metadata": {},
     "output_type": "execute_result"
    }
   ],
   "source": [
    "result.best_params_"
   ]
  },
  {
   "cell_type": "code",
   "execution_count": 77,
   "id": "e17d12df",
   "metadata": {},
   "outputs": [],
   "source": [
    "dt_tuned_model = result.best_estimator_\n",
    "\n",
    "dt_tuned_model.fit(x_train,y_train)\n",
    "\n",
    "y_pred = dt_tuned_model.predict(x_test)"
   ]
  },
  {
   "cell_type": "code",
   "execution_count": 78,
   "id": "dcff2d79",
   "metadata": {},
   "outputs": [
    {
     "data": {
      "text/plain": [
       "array([[241,  13],\n",
       "       [ 20, 172]], dtype=int64)"
      ]
     },
     "execution_count": 78,
     "metadata": {},
     "output_type": "execute_result"
    }
   ],
   "source": [
    "confusion_matrix(y_test,y_pred)"
   ]
  },
  {
   "cell_type": "code",
   "execution_count": 79,
   "id": "67739bc9",
   "metadata": {},
   "outputs": [
    {
     "name": "stdout",
     "output_type": "stream",
     "text": [
      "              precision    recall  f1-score   support\n",
      "\n",
      "           0       0.92      0.95      0.94       254\n",
      "           1       0.93      0.90      0.91       192\n",
      "\n",
      "    accuracy                           0.93       446\n",
      "   macro avg       0.93      0.92      0.92       446\n",
      "weighted avg       0.93      0.93      0.93       446\n",
      "\n"
     ]
    }
   ],
   "source": [
    "print(classification_report(y_test,y_pred))"
   ]
  },
  {
   "cell_type": "code",
   "execution_count": 80,
   "id": "71f90c36",
   "metadata": {},
   "outputs": [
    {
     "name": "stdout",
     "output_type": "stream",
     "text": [
      "Precision:  0.9297297297297298\n",
      "Recall:  0.8958333333333334\n",
      "f1-score:  0.9124668435013263\n",
      "Accuracy:  0.9260089686098655\n"
     ]
    }
   ],
   "source": [
    "print('Precision: ',precision_score(y_test,y_pred))\n",
    "print('Recall: ',recall_score(y_test,y_pred))\n",
    "print('f1-score: ',f1_score(y_test,y_pred))\n",
    "print('Accuracy: ',accuracy_score(y_test,y_pred))"
   ]
  },
  {
   "cell_type": "code",
   "execution_count": 81,
   "id": "47c0cba5",
   "metadata": {},
   "outputs": [],
   "source": [
    "performance_with_hyperparameters['Decision tree']=[accuracy_score(y_test,y_pred),\n",
    "                                    precision_score(y_test,y_pred),\n",
    "                                    recall_score(y_test,y_pred),\n",
    "                                   f1_score(y_test,y_pred)]"
   ]
  },
  {
   "cell_type": "markdown",
   "id": "da75384a",
   "metadata": {},
   "source": [
    "# KNN"
   ]
  },
  {
   "cell_type": "code",
   "execution_count": 82,
   "id": "8bb270f5",
   "metadata": {},
   "outputs": [],
   "source": [
    "random_search = RandomizedSearchCV(estimator=KNeighborsClassifier(),param_distributions={'n_neighbors':[3,5,7,9,11,15,21,25,35],\n",
    "                                                                                         'weights':['uniform', 'distance']\n",
    "                                                                                           },\n",
    "                                   scoring='accuracy',cv=5,random_state=1)\n",
    "\n",
    "result = random_search.fit(X,y)"
   ]
  },
  {
   "cell_type": "code",
   "execution_count": 83,
   "id": "3db555b7",
   "metadata": {},
   "outputs": [
    {
     "data": {
      "text/plain": [
       "{'weights': 'distance', 'n_neighbors': 9}"
      ]
     },
     "execution_count": 83,
     "metadata": {},
     "output_type": "execute_result"
    }
   ],
   "source": [
    "result.best_params_"
   ]
  },
  {
   "cell_type": "code",
   "execution_count": 84,
   "id": "742b1388",
   "metadata": {},
   "outputs": [],
   "source": [
    "knn_tuned_model = result.best_estimator_\n",
    "\n",
    "knn_tuned_model.fit(x_train,y_train)\n",
    "\n",
    "y_pred = knn_tuned_model.predict(x_test)"
   ]
  },
  {
   "cell_type": "code",
   "execution_count": 85,
   "id": "352ad978",
   "metadata": {},
   "outputs": [
    {
     "data": {
      "text/plain": [
       "array([[240,  14],\n",
       "       [ 11, 181]], dtype=int64)"
      ]
     },
     "execution_count": 85,
     "metadata": {},
     "output_type": "execute_result"
    }
   ],
   "source": [
    "confusion_matrix(y_test,y_pred)"
   ]
  },
  {
   "cell_type": "code",
   "execution_count": 86,
   "id": "8f389bde",
   "metadata": {},
   "outputs": [
    {
     "name": "stdout",
     "output_type": "stream",
     "text": [
      "              precision    recall  f1-score   support\n",
      "\n",
      "           0       0.96      0.94      0.95       254\n",
      "           1       0.93      0.94      0.94       192\n",
      "\n",
      "    accuracy                           0.94       446\n",
      "   macro avg       0.94      0.94      0.94       446\n",
      "weighted avg       0.94      0.94      0.94       446\n",
      "\n"
     ]
    }
   ],
   "source": [
    "print(classification_report(y_test,y_pred))"
   ]
  },
  {
   "cell_type": "code",
   "execution_count": 87,
   "id": "ab1195e1",
   "metadata": {},
   "outputs": [
    {
     "name": "stdout",
     "output_type": "stream",
     "text": [
      "Precision:  0.9282051282051282\n",
      "Recall:  0.9427083333333334\n",
      "f1-score:  0.9354005167958657\n",
      "Accuracy:  0.9439461883408071\n"
     ]
    }
   ],
   "source": [
    "print('Precision: ',precision_score(y_test,y_pred))\n",
    "print('Recall: ',recall_score(y_test,y_pred))\n",
    "print('f1-score: ',f1_score(y_test,y_pred))\n",
    "print('Accuracy: ',accuracy_score(y_test,y_pred))"
   ]
  },
  {
   "cell_type": "code",
   "execution_count": 88,
   "id": "344c9937",
   "metadata": {},
   "outputs": [],
   "source": [
    "performance_with_hyperparameters['KNN']=[accuracy_score(y_test,y_pred),\n",
    "                                    precision_score(y_test,y_pred),\n",
    "                                    recall_score(y_test,y_pred),\n",
    "                                   f1_score(y_test,y_pred)]"
   ]
  },
  {
   "cell_type": "code",
   "execution_count": null,
   "id": "0c7be152",
   "metadata": {},
   "outputs": [],
   "source": []
  },
  {
   "cell_type": "code",
   "execution_count": 89,
   "id": "5db78929",
   "metadata": {},
   "outputs": [
    {
     "data": {
      "text/html": [
       "<div>\n",
       "<style scoped>\n",
       "    .dataframe tbody tr th:only-of-type {\n",
       "        vertical-align: middle;\n",
       "    }\n",
       "\n",
       "    .dataframe tbody tr th {\n",
       "        vertical-align: top;\n",
       "    }\n",
       "\n",
       "    .dataframe thead th {\n",
       "        text-align: right;\n",
       "    }\n",
       "</style>\n",
       "<table border=\"1\" class=\"dataframe\">\n",
       "  <thead>\n",
       "    <tr style=\"text-align: right;\">\n",
       "      <th></th>\n",
       "      <th>Logistic Regression</th>\n",
       "      <th>SVM with linear kernel</th>\n",
       "      <th>SVM with rbf kernel</th>\n",
       "      <th>Decision Tree</th>\n",
       "      <th>KNN</th>\n",
       "    </tr>\n",
       "  </thead>\n",
       "  <tbody>\n",
       "    <tr>\n",
       "      <th>Accuracy</th>\n",
       "      <td>0.748879</td>\n",
       "      <td>0.730942</td>\n",
       "      <td>0.950673</td>\n",
       "      <td>0.932735</td>\n",
       "      <td>0.950673</td>\n",
       "    </tr>\n",
       "    <tr>\n",
       "      <th>Precision</th>\n",
       "      <td>1.000000</td>\n",
       "      <td>1.000000</td>\n",
       "      <td>0.933673</td>\n",
       "      <td>0.909091</td>\n",
       "      <td>0.933673</td>\n",
       "    </tr>\n",
       "    <tr>\n",
       "      <th>Recall</th>\n",
       "      <td>0.416667</td>\n",
       "      <td>0.375000</td>\n",
       "      <td>0.953125</td>\n",
       "      <td>0.937500</td>\n",
       "      <td>0.953125</td>\n",
       "    </tr>\n",
       "    <tr>\n",
       "      <th>F1-score</th>\n",
       "      <td>0.588235</td>\n",
       "      <td>0.545455</td>\n",
       "      <td>0.943299</td>\n",
       "      <td>0.923077</td>\n",
       "      <td>0.943299</td>\n",
       "    </tr>\n",
       "  </tbody>\n",
       "</table>\n",
       "</div>"
      ],
      "text/plain": [
       "           Logistic Regression  SVM with linear kernel  SVM with rbf kernel  \\\n",
       "Accuracy              0.748879                0.730942             0.950673   \n",
       "Precision             1.000000                1.000000             0.933673   \n",
       "Recall                0.416667                0.375000             0.953125   \n",
       "F1-score              0.588235                0.545455             0.943299   \n",
       "\n",
       "           Decision Tree       KNN  \n",
       "Accuracy        0.932735  0.950673  \n",
       "Precision       0.909091  0.933673  \n",
       "Recall          0.937500  0.953125  \n",
       "F1-score        0.923077  0.943299  "
      ]
     },
     "execution_count": 89,
     "metadata": {},
     "output_type": "execute_result"
    }
   ],
   "source": [
    "performance"
   ]
  },
  {
   "cell_type": "code",
   "execution_count": 90,
   "id": "e5558b5e",
   "metadata": {},
   "outputs": [
    {
     "data": {
      "text/html": [
       "<div>\n",
       "<style scoped>\n",
       "    .dataframe tbody tr th:only-of-type {\n",
       "        vertical-align: middle;\n",
       "    }\n",
       "\n",
       "    .dataframe tbody tr th {\n",
       "        vertical-align: top;\n",
       "    }\n",
       "\n",
       "    .dataframe thead th {\n",
       "        text-align: right;\n",
       "    }\n",
       "</style>\n",
       "<table border=\"1\" class=\"dataframe\">\n",
       "  <thead>\n",
       "    <tr style=\"text-align: right;\">\n",
       "      <th></th>\n",
       "      <th>logistic regression</th>\n",
       "      <th>SVM with linear kernel</th>\n",
       "      <th>SVM with rbf kernel</th>\n",
       "      <th>Decision tree</th>\n",
       "      <th>KNN</th>\n",
       "    </tr>\n",
       "  </thead>\n",
       "  <tbody>\n",
       "    <tr>\n",
       "      <th>Accuracy</th>\n",
       "      <td>0.748879</td>\n",
       "      <td>0.730942</td>\n",
       "      <td>0.941704</td>\n",
       "      <td>0.926009</td>\n",
       "      <td>0.943946</td>\n",
       "    </tr>\n",
       "    <tr>\n",
       "      <th>Precision</th>\n",
       "      <td>1.000000</td>\n",
       "      <td>1.000000</td>\n",
       "      <td>0.988235</td>\n",
       "      <td>0.929730</td>\n",
       "      <td>0.928205</td>\n",
       "    </tr>\n",
       "    <tr>\n",
       "      <th>Recall</th>\n",
       "      <td>0.416667</td>\n",
       "      <td>0.375000</td>\n",
       "      <td>0.875000</td>\n",
       "      <td>0.895833</td>\n",
       "      <td>0.942708</td>\n",
       "    </tr>\n",
       "    <tr>\n",
       "      <th>F1-score</th>\n",
       "      <td>0.588235</td>\n",
       "      <td>0.545455</td>\n",
       "      <td>0.928177</td>\n",
       "      <td>0.912467</td>\n",
       "      <td>0.935401</td>\n",
       "    </tr>\n",
       "  </tbody>\n",
       "</table>\n",
       "</div>"
      ],
      "text/plain": [
       "           logistic regression  SVM with linear kernel  SVM with rbf kernel  \\\n",
       "Accuracy              0.748879                0.730942             0.941704   \n",
       "Precision             1.000000                1.000000             0.988235   \n",
       "Recall                0.416667                0.375000             0.875000   \n",
       "F1-score              0.588235                0.545455             0.928177   \n",
       "\n",
       "           Decision tree       KNN  \n",
       "Accuracy        0.926009  0.943946  \n",
       "Precision       0.929730  0.928205  \n",
       "Recall          0.895833  0.942708  \n",
       "F1-score        0.912467  0.935401  "
      ]
     },
     "execution_count": 90,
     "metadata": {},
     "output_type": "execute_result"
    }
   ],
   "source": [
    "performance_with_hyperparameters"
   ]
  },
  {
   "cell_type": "markdown",
   "id": "2fec6245",
   "metadata": {},
   "source": [
    "# Observations:\n",
    "\n",
    "1. SVM with rbf kernel and knn models gives me better than other models.\n",
    "2. After hyperparameter tuning, knn gives better accuracy,presicionand f1-score than other models. SVM with rbf kernel gives me better recall than all other models"
   ]
  }
 ],
 "metadata": {
  "kernelspec": {
   "display_name": "Python 3",
   "language": "python",
   "name": "python3"
  },
  "language_info": {
   "codemirror_mode": {
    "name": "ipython",
    "version": 3
   },
   "file_extension": ".py",
   "mimetype": "text/x-python",
   "name": "python",
   "nbconvert_exporter": "python",
   "pygments_lexer": "ipython3",
   "version": "3.8.8"
  }
 },
 "nbformat": 4,
 "nbformat_minor": 5
}
